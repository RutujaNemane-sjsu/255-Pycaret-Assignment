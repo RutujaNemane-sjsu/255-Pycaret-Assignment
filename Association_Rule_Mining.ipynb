{
  "cells": [
    {
      "cell_type": "code",
      "execution_count": null,
      "metadata": {
        "id": "SlO_hIkjAJBu",
        "colab": {
          "base_uri": "https://localhost:8080/"
        },
        "outputId": "eab66feb-2b09-457f-ac04-d4e2af400229"
      },
      "outputs": [
        {
          "output_type": "stream",
          "name": "stdout",
          "text": [
            "Requirement already satisfied: mlxtend in /usr/local/lib/python3.10/dist-packages (0.23.1)\n",
            "Requirement already satisfied: scipy>=1.2.1 in /usr/local/lib/python3.10/dist-packages (from mlxtend) (1.13.1)\n",
            "Requirement already satisfied: numpy>=1.16.2 in /usr/local/lib/python3.10/dist-packages (from mlxtend) (1.26.4)\n",
            "Requirement already satisfied: pandas>=0.24.2 in /usr/local/lib/python3.10/dist-packages (from mlxtend) (2.1.4)\n",
            "Requirement already satisfied: scikit-learn>=1.0.2 in /usr/local/lib/python3.10/dist-packages (from mlxtend) (1.5.2)\n",
            "Requirement already satisfied: matplotlib>=3.0.0 in /usr/local/lib/python3.10/dist-packages (from mlxtend) (3.7.1)\n",
            "Requirement already satisfied: joblib>=0.13.2 in /usr/local/lib/python3.10/dist-packages (from mlxtend) (1.4.2)\n",
            "Requirement already satisfied: contourpy>=1.0.1 in /usr/local/lib/python3.10/dist-packages (from matplotlib>=3.0.0->mlxtend) (1.3.0)\n",
            "Requirement already satisfied: cycler>=0.10 in /usr/local/lib/python3.10/dist-packages (from matplotlib>=3.0.0->mlxtend) (0.12.1)\n",
            "Requirement already satisfied: fonttools>=4.22.0 in /usr/local/lib/python3.10/dist-packages (from matplotlib>=3.0.0->mlxtend) (4.53.1)\n",
            "Requirement already satisfied: kiwisolver>=1.0.1 in /usr/local/lib/python3.10/dist-packages (from matplotlib>=3.0.0->mlxtend) (1.4.7)\n",
            "Requirement already satisfied: packaging>=20.0 in /usr/local/lib/python3.10/dist-packages (from matplotlib>=3.0.0->mlxtend) (24.1)\n",
            "Requirement already satisfied: pillow>=6.2.0 in /usr/local/lib/python3.10/dist-packages (from matplotlib>=3.0.0->mlxtend) (10.4.0)\n",
            "Requirement already satisfied: pyparsing>=2.3.1 in /usr/local/lib/python3.10/dist-packages (from matplotlib>=3.0.0->mlxtend) (3.1.4)\n",
            "Requirement already satisfied: python-dateutil>=2.7 in /usr/local/lib/python3.10/dist-packages (from matplotlib>=3.0.0->mlxtend) (2.8.2)\n",
            "Requirement already satisfied: pytz>=2020.1 in /usr/local/lib/python3.10/dist-packages (from pandas>=0.24.2->mlxtend) (2024.2)\n",
            "Requirement already satisfied: tzdata>=2022.1 in /usr/local/lib/python3.10/dist-packages (from pandas>=0.24.2->mlxtend) (2024.1)\n",
            "Requirement already satisfied: threadpoolctl>=3.1.0 in /usr/local/lib/python3.10/dist-packages (from scikit-learn>=1.0.2->mlxtend) (3.5.0)\n",
            "Requirement already satisfied: six>=1.5 in /usr/local/lib/python3.10/dist-packages (from python-dateutil>=2.7->matplotlib>=3.0.0->mlxtend) (1.16.0)\n"
          ]
        }
      ],
      "source": [
        "!pip install mlxtend\n",
        "import pandas as pd\n",
        "from mlxtend.frequent_patterns import apriori, association_rules\n",
        "from mlxtend.preprocessing import TransactionEncoder\n",
        "\n"
      ]
    },
    {
      "cell_type": "code",
      "source": [
        "dataset = [['milk', 'bread', 'butter'],\n",
        "           ['bread', 'diapers', 'beer'],\n",
        "           ['milk', 'diapers', 'bread', 'beer'],\n",
        "           ['milk', 'bread', 'butter']]\n",
        "\n",
        "# one-hot encoded DataFrame\n",
        "te = TransactionEncoder()\n",
        "te_ary = te.fit(dataset).transform(dataset)\n",
        "df = pd.DataFrame(te_ary, columns=te.columns_)"
      ],
      "metadata": {
        "id": "0SQXvLNHcwef",
        "colab": {
          "base_uri": "https://localhost:8080/"
        },
        "outputId": "1e1bfc2d-98b0-47cf-ec46-ca55668a6fc3"
      },
      "execution_count": null,
      "outputs": [
        {
          "output_type": "stream",
          "name": "stderr",
          "text": [
            "/usr/local/lib/python3.10/dist-packages/ipykernel/ipkernel.py:283: DeprecationWarning: `should_run_async` will not call `transform_cell` automatically in the future. Please pass the result to `transformed_cell` argument and any exception that happen during thetransform in `preprocessing_exc_tuple` in IPython 7.17 and above.\n",
            "  and should_run_async(code)\n"
          ]
        }
      ]
    },
    {
      "cell_type": "code",
      "source": [
        "# find frequent itemsets\n",
        "frequent_itemsets = apriori(df, min_support=0.5, use_colnames=True)"
      ],
      "metadata": {
        "id": "e9jvE1wccucx",
        "colab": {
          "base_uri": "https://localhost:8080/"
        },
        "outputId": "48d95dc6-5cce-4aee-f9e5-81ae940927b4"
      },
      "execution_count": null,
      "outputs": [
        {
          "output_type": "stream",
          "name": "stderr",
          "text": [
            "/usr/local/lib/python3.10/dist-packages/ipykernel/ipkernel.py:283: DeprecationWarning: `should_run_async` will not call `transform_cell` automatically in the future. Please pass the result to `transformed_cell` argument and any exception that happen during thetransform in `preprocessing_exc_tuple` in IPython 7.17 and above.\n",
            "  and should_run_async(code)\n"
          ]
        }
      ]
    },
    {
      "cell_type": "code",
      "source": [
        "# Generate the association rules\n",
        "rules = association_rules(frequent_itemsets, metric=\"lift\", min_threshold=1.0)\n",
        "\n",
        "print(rules)"
      ],
      "metadata": {
        "colab": {
          "base_uri": "https://localhost:8080/"
        },
        "id": "_i5C_enwcsnm",
        "outputId": "93f93b4c-c747-4e4b-d0c4-04370378cdf7"
      },
      "execution_count": null,
      "outputs": [
        {
          "output_type": "stream",
          "name": "stdout",
          "text": [
            "         antecedents       consequents  antecedent support  \\\n",
            "0             (beer)           (bread)                0.50   \n",
            "1            (bread)            (beer)                1.00   \n",
            "2          (diapers)            (beer)                0.50   \n",
            "3             (beer)         (diapers)                0.50   \n",
            "4           (butter)           (bread)                0.50   \n",
            "5            (bread)          (butter)                1.00   \n",
            "6          (diapers)           (bread)                0.50   \n",
            "7            (bread)         (diapers)                1.00   \n",
            "8             (milk)           (bread)                0.75   \n",
            "9            (bread)            (milk)                1.00   \n",
            "10          (butter)            (milk)                0.50   \n",
            "11            (milk)          (butter)                0.75   \n",
            "12   (diapers, beer)           (bread)                0.50   \n",
            "13  (diapers, bread)            (beer)                0.50   \n",
            "14     (beer, bread)         (diapers)                0.50   \n",
            "15         (diapers)     (beer, bread)                0.50   \n",
            "16            (beer)  (diapers, bread)                0.50   \n",
            "17           (bread)   (diapers, beer)                1.00   \n",
            "18    (butter, milk)           (bread)                0.50   \n",
            "19   (butter, bread)            (milk)                0.50   \n",
            "20     (milk, bread)          (butter)                0.75   \n",
            "21          (butter)     (milk, bread)                0.50   \n",
            "22            (milk)   (butter, bread)                0.75   \n",
            "23           (bread)    (butter, milk)                1.00   \n",
            "\n",
            "    consequent support  support  confidence      lift  leverage  conviction  \\\n",
            "0                 1.00     0.50    1.000000  1.000000     0.000         inf   \n",
            "1                 0.50     0.50    0.500000  1.000000     0.000         1.0   \n",
            "2                 0.50     0.50    1.000000  2.000000     0.250         inf   \n",
            "3                 0.50     0.50    1.000000  2.000000     0.250         inf   \n",
            "4                 1.00     0.50    1.000000  1.000000     0.000         inf   \n",
            "5                 0.50     0.50    0.500000  1.000000     0.000         1.0   \n",
            "6                 1.00     0.50    1.000000  1.000000     0.000         inf   \n",
            "7                 0.50     0.50    0.500000  1.000000     0.000         1.0   \n",
            "8                 1.00     0.75    1.000000  1.000000     0.000         inf   \n",
            "9                 0.75     0.75    0.750000  1.000000     0.000         1.0   \n",
            "10                0.75     0.50    1.000000  1.333333     0.125         inf   \n",
            "11                0.50     0.50    0.666667  1.333333     0.125         1.5   \n",
            "12                1.00     0.50    1.000000  1.000000     0.000         inf   \n",
            "13                0.50     0.50    1.000000  2.000000     0.250         inf   \n",
            "14                0.50     0.50    1.000000  2.000000     0.250         inf   \n",
            "15                0.50     0.50    1.000000  2.000000     0.250         inf   \n",
            "16                0.50     0.50    1.000000  2.000000     0.250         inf   \n",
            "17                0.50     0.50    0.500000  1.000000     0.000         1.0   \n",
            "18                1.00     0.50    1.000000  1.000000     0.000         inf   \n",
            "19                0.75     0.50    1.000000  1.333333     0.125         inf   \n",
            "20                0.50     0.50    0.666667  1.333333     0.125         1.5   \n",
            "21                0.75     0.50    1.000000  1.333333     0.125         inf   \n",
            "22                0.50     0.50    0.666667  1.333333     0.125         1.5   \n",
            "23                0.50     0.50    0.500000  1.000000     0.000         1.0   \n",
            "\n",
            "    zhangs_metric  \n",
            "0             0.0  \n",
            "1             0.0  \n",
            "2             1.0  \n",
            "3             1.0  \n",
            "4             0.0  \n",
            "5             0.0  \n",
            "6             0.0  \n",
            "7             0.0  \n",
            "8             0.0  \n",
            "9             0.0  \n",
            "10            0.5  \n",
            "11            1.0  \n",
            "12            0.0  \n",
            "13            1.0  \n",
            "14            1.0  \n",
            "15            1.0  \n",
            "16            1.0  \n",
            "17            0.0  \n",
            "18            0.0  \n",
            "19            0.5  \n",
            "20            1.0  \n",
            "21            0.5  \n",
            "22            1.0  \n",
            "23            0.0  \n"
          ]
        },
        {
          "output_type": "stream",
          "name": "stderr",
          "text": [
            "/usr/local/lib/python3.10/dist-packages/ipykernel/ipkernel.py:283: DeprecationWarning: `should_run_async` will not call `transform_cell` automatically in the future. Please pass the result to `transformed_cell` argument and any exception that happen during thetransform in `preprocessing_exc_tuple` in IPython 7.17 and above.\n",
            "  and should_run_async(code)\n"
          ]
        }
      ]
    },
    {
      "cell_type": "code",
      "execution_count": null,
      "metadata": {
        "id": "-14SquihAJBv",
        "outputId": "6782b978-c87a-44b7-ccdd-5d382ed31028",
        "colab": {
          "base_uri": "https://localhost:8080/",
          "height": 503
        }
      },
      "outputs": [
        {
          "output_type": "stream",
          "name": "stderr",
          "text": [
            "/usr/local/lib/python3.10/dist-packages/ipykernel/ipkernel.py:283: DeprecationWarning: `should_run_async` will not call `transform_cell` automatically in the future. Please pass the result to `transformed_cell` argument and any exception that happen during thetransform in `preprocessing_exc_tuple` in IPython 7.17 and above.\n",
            "  and should_run_async(code)\n"
          ]
        },
        {
          "output_type": "execute_result",
          "data": {
            "text/plain": [
              "<matplotlib.legend.Legend at 0x7dc49c6c64a0>"
            ]
          },
          "metadata": {},
          "execution_count": 6
        },
        {
          "output_type": "display_data",
          "data": {
            "text/plain": [
              "<Figure size 1000x600 with 1 Axes>"
            ],
            "image/png": "[encoded data removed]"
          },
          "metadata": {}
        }
      ],
      "source": [
        "import matplotlib.pyplot as plt\n",
        "import seaborn as sns\n",
        "plt.figure(figsize=(10, 6))\n",
        "scatter = sns.scatterplot(x=\"support\", y=\"confidence\", size=\"lift\", hue=\"lift\", data=rules,\n",
        "                          palette=\"coolwarm\", sizes=(50, 500), legend=\"full\")\n",
        "\n",
        "scatter.legend(title='Lift', loc='upper right', bbox_to_anchor=(1.05, 1), borderaxespad=0)\n"
      ]
    },
    {
      "cell_type": "code",
      "execution_count": null,
      "metadata": {
        "id": "qTi1RxLbAJBw",
        "colab": {
          "base_uri": "https://localhost:8080/",
          "height": 550
        },
        "outputId": "00bafea9-477b-4d0a-b30e-4072e8ad574d"
      },
      "outputs": [
        {
          "output_type": "stream",
          "name": "stderr",
          "text": [
            "/usr/local/lib/python3.10/dist-packages/ipykernel/ipkernel.py:283: DeprecationWarning: `should_run_async` will not call `transform_cell` automatically in the future. Please pass the result to `transformed_cell` argument and any exception that happen during thetransform in `preprocessing_exc_tuple` in IPython 7.17 and above.\n",
            "  and should_run_async(code)\n",
            "WARNING:matplotlib.legend:No artists with labels found to put in legend.  Note that artists whose label start with an underscore are ignored when legend() is called with no argument.\n"
          ]
        },
        {
          "output_type": "display_data",
          "data": {
            "text/plain": [
              "<Figure size 640x480 with 1 Axes>"
            ],
            "image/png": "[encoded data removed]"
          },
          "metadata": {}
        }
      ],
      "source": [
        "# Add labels and title\n",
        "plt.title('Support vs Confidence (size = Lift)', fontsize=15)\n",
        "plt.xlabel('Support', fontsize=12)\n",
        "plt.ylabel('Confidence', fontsize=12)\n",
        "plt.legend(loc='upper right', title=\"Lift\")\n",
        "\n",
        "# Show plot\n",
        "plt.show()"
      ]
    }
  ],
  "metadata": {
    "kernelspec": {
      "display_name": "Python 3",
      "language": "python",
      "name": "python3"
    },
    "language_info": {
      "codemirror_mode": {
        "name": "ipython",
        "version": 3
      },
      "file_extension": ".py",
      "mimetype": "text/x-python",
      "name": "python",
      "nbconvert_exporter": "python",
      "pygments_lexer": "ipython3",
      "version": "3.7.4"
    },
    "colab": {
      "provenance": []
    }
  },
  "nbformat": 4,
  "nbformat_minor": 0
}